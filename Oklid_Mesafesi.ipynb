{
 "cells": [
  {
   "cell_type": "code",
   "execution_count": 66,
   "id": "9cae6f34-9173-4f26-b97a-ac8ba4d710ae",
   "metadata": {},
   "outputs": [
    {
     "name": "stdout",
     "output_type": "stream",
     "text": [
      "Öklid Mesafesi: √(x₂-x₁)²+(y₂-y₁)²\n"
     ]
    },
    {
     "name": "stdin",
     "output_type": "stream",
     "text": [
      "\n",
      "\tx2 Koordinatı: -5.1\n",
      "\tx1 Koordinatı: 3\n",
      "\ty2 Koordinatı: -5.2\n",
      "\ty1 Koordinatı: 3.5\n"
     ]
    },
    {
     "name": "stdout",
     "output_type": "stream",
     "text": [
      "\t\tmin_distances:65.61\n",
      "\t\tmax_distances:75.69\n",
      "\n",
      "euclideanDistance:11.887\n"
     ]
    }
   ],
   "source": [
    "#d = √(x₂-x₁)²+(y₂-y₁)²\n",
    "print(\"Öklid Mesafesi: √(x₂-x₁)²+(y₂-y₁)²\")\n",
    "\n",
    "x2=float(input(\"\\n\\tx2 Koordinatı:\"))\n",
    "# print(x1)\n",
    "x1=float(input(\"\\tx1 Koordinatı:\"))\n",
    "# print(x2)\n",
    "y2=float(input(\"\\ty2 Koordinatı:\"))\n",
    "# print(y1)\n",
    "y1=float(input(\"\\ty1 Koordinatı:\"))\n",
    "# print(y2)\n",
    "points=[x2,x1,y2,y1]\n",
    "# print(points)\n",
    "# print(((points[0] - points[1])**2)+(points[2] - points[3])**2 )\n",
    "\n",
    "distances=[round(((points[0] - points[1])**2),2),round(((points[2] - points[3])**2),2)]\n",
    "result=\"\\t\\tmin_distances:\"+ str(min(distances))\n",
    "print (result)\n",
    "\n",
    "distances=[round(((points[0] - points[1])**2),2),round(((points[2] - points[3])**2),2)]\n",
    "result=\"\\t\\tmax_distances:\"+ str(max(distances))\n",
    "print (result)\n",
    "\n",
    "import math\n",
    "euclideanDistance= round(math.sqrt(((points[0] - points[1])**2)+(points[2] - points[3])**2),3)\n",
    "result=\"\\neuclideanDistance:\"+ str(euclideanDistance)\n",
    "print(result)"
   ]
  },
  {
   "cell_type": "code",
   "execution_count": null,
   "id": "96de6091-a9d1-4f4d-9d26-988547020b5e",
   "metadata": {},
   "outputs": [],
   "source": []
  }
 ],
 "metadata": {
  "kernelspec": {
   "display_name": "Python 3 (ipykernel)",
   "language": "python",
   "name": "python3"
  },
  "language_info": {
   "codemirror_mode": {
    "name": "ipython",
    "version": 3
   },
   "file_extension": ".py",
   "mimetype": "text/x-python",
   "name": "python",
   "nbconvert_exporter": "python",
   "pygments_lexer": "ipython3",
   "version": "3.12.7"
  }
 },
 "nbformat": 4,
 "nbformat_minor": 5
}
