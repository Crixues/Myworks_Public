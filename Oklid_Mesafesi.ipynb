{
 "cells": [
  {
   "cell_type": "code",
   "execution_count": 9,
   "id": "7b482a48-971d-414e-8eee-37c6415b9aff",
   "metadata": {
    "editable": true,
    "slideshow": {
     "slide_type": ""
    },
    "tags": []
   },
   "outputs": [
    {
     "name": "stdout",
     "output_type": "stream",
     "text": [
      "Öklid Mesafesi: √(x₂-x₁)²+(y₂-y₁)²\n"
     ]
    },
    {
     "name": "stdin",
     "output_type": "stream",
     "text": [
      "\n",
      "\tx2 Koordinatı: -5.1\n",
      "\n",
      "\tx1 Koordinatı: 3\n",
      "\n",
      "\ty2 Koordinatı: -5.2\n",
      "\n",
      "\ty1 Koordinatı: 3.5\n"
     ]
    },
    {
     "name": "stdout",
     "output_type": "stream",
     "text": [
      "\n",
      "min_distances:65.61\n",
      "max_distances:75.69\n",
      "\n",
      "euclideanDistance:11.887\n"
     ]
    },
    {
     "data": {
      "text/plain": [
       "''"
      ]
     },
     "execution_count": 9,
     "metadata": {},
     "output_type": "execute_result"
    }
   ],
   "source": [
    "##### d = √(x₂-x₁)²+(y₂-y₁)²\n",
    "print(\"Öklid Mesafesi: √(x₂-x₁)²+(y₂-y₁)²\")\n",
    "\n",
    "x2=float(input(\"\\n\\tx2 Koordinatı:\"))\n",
    "while x2 == 0:\n",
    "    print(\"\\n\\t0 dan farklı değer girin!\")\n",
    "    x2=float(input(\"\\n\\tx2 Koordinatı:\"))\n",
    "    # print(x2)\n",
    "\n",
    "x1=float(input(\"\\n\\tx1 Koordinatı:\"))\n",
    "while x1 == 0:\n",
    "    print(\"\\n\\t0 dan farklı değer girin!\")\n",
    "    x1=float(input(\"\\n\\tx1 Koordinatı:\"))\n",
    "    # print(x1)\n",
    "\n",
    "y2=float(input(\"\\n\\ty2 Koordinatı:\"))\n",
    "while y2 == 0:\n",
    "    print(\"\\n\\t0 dan farklı değer girin!\")\n",
    "    y2=float(input(\"\\n\\ty2 Koordinatı:\"))\n",
    "    # print(y2)\n",
    "\n",
    "y1=float(input(\"\\n\\ty1 Koordinatı:\"))\n",
    "while y1 == 0:\n",
    "    print(\"\\n\\t0 dan farklı değer girin!\")\n",
    "    y1=float(input(\"\\n\\ty1 Koordinatı:\"))\n",
    "    # print(y1)\n",
    "\n",
    "x_points=(x2,x1) #tuple1\n",
    "y_points=(y2,y1) #tuple2\n",
    "\n",
    "distances=[round(((x_points[0] - x_points[1])**2),2),round(((y_points[0] - y_points[1])**2),2)]\n",
    "result=\"\\nmin_distances:\"+ str(min(distances))\n",
    "print (result)\n",
    "\n",
    "distances=[round(((x_points[0] - x_points[1])**2),2),round(((y_points[0] - y_points[1])**2),2)]\n",
    "result=\"max_distances:\"+ str(max(distances))\n",
    "print (result)\n",
    "\n",
    "import math\n",
    "euclideanDistance= round(math.sqrt(((x_points[0] - x_points[1])**2)+(y_points[0] - y_points[1])**2),3)\n",
    "result=\"\\neuclideanDistance:\"+ str(euclideanDistance)\n",
    "print(result)\n",
    "\n",
    "\n",
    "#List1\n",
    "''' points=[x2,x1,y2,y1] '''\n",
    "\n",
    "# List1\n",
    "''' distances=[round(((points[0] - points[1])**2),2),round(((points[2] - points[3])**2),2)]\n",
    "result=\"\\nmin_distances:\"+ str(min(distances))\n",
    "print (result) '''\n",
    "\n",
    "\n",
    "# List1\n",
    "'''distances=[round(((points[0] - points[1])**2),2),round(((points[2] - points[3])**2),2)]\n",
    "result=\"max_distances:\"+ str(max(distances))\n",
    "print (result)'''\n",
    "\n",
    "\n",
    "# List1\n",
    "'''import math\n",
    "euclideanDistance= round(math.sqrt(((points[0] - points[1])**2)+(points[2] - points[3])**2),3)\n",
    "result=\"\\neuclideanDistance:\"+ str(euclideanDistance)\n",
    "print(result)'''\n",
    "\n",
    "# END\n",
    "'' ''\n",
    "    "
   ]
  },
  {
   "cell_type": "code",
   "execution_count": null,
   "id": "927d449b-7987-4ab8-bbaf-7637cf86b95e",
   "metadata": {},
   "outputs": [],
   "source": []
  }
 ],
 "metadata": {
  "kernelspec": {
   "display_name": "Python 3 (ipykernel)",
   "language": "python",
   "name": "python3"
  },
  "language_info": {
   "codemirror_mode": {
    "name": "ipython",
    "version": 3
   },
   "file_extension": ".py",
   "mimetype": "text/x-python",
   "name": "python",
   "nbconvert_exporter": "python",
   "pygments_lexer": "ipython3",
   "version": "3.12.7"
  }
 },
 "nbformat": 4,
 "nbformat_minor": 5
}
