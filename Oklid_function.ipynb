{
 "cells": [
  {
   "cell_type": "code",
   "execution_count": 607,
   "id": "1db8a5a2-32c5-4181-95a5-14ac3bf95b41",
   "metadata": {},
   "outputs": [
    {
     "name": "stdout",
     "output_type": "stream",
     "text": [
      "Öklid Mesafesi: √(x₂-x₁)²+(y₂-y₁)²\n"
     ]
    }
   ],
   "source": [
    "##### d = √(x₂-x₁)²+(y₂-y₁)²\n",
    "print(\"Öklid Mesafesi: √(x₂-x₁)²+(y₂-y₁)²\")\n",
    "\n",
    "def euclideanDistance(x1,x2,y1,y2):\n",
    "    if float(x2) == 0 or float(x1) == 0 or float(y2) == 0 or float(y1) == 0:        \n",
    "        print(\"Hesaplama için 0 dan farklı değer girin!\")\n",
    "      \n",
    "    else:\n",
    "\n",
    "# ‘points’ adında bir liste oluşturun. Bu liste, 2D uzaydaki noktaları temsil eden demetler (tuple) içermelidir. \n",
    "# Örneğin, ‘(x, y)’ noktası bir demet ‘(x, y)’ olarak temsil edilecektir.\n",
    "        x1y1=(x1,y1)  # Tuple\n",
    "        x2y2=(x2,y2)  # Tuple\n",
    "        points=[(x1y1),(x2y2)] # List\n",
    "\n",
    "        distances ={\"x2\":x2y2[0],\"x1\":x1y1[0],\"y2\":x2y2[1],\"y1\":x1y1[1]} # Dictonary\n",
    "\n",
    "        \n",
    "        #print(points)\n",
    "# Bir döngü kullanarak, ‘points’ listesindeki her nokta çifti arasındaki Öklid mesafesini hesaplayın. \n",
    "# Bu mesafeleri ‘distances’ adında başka bir listede saklayın.\n",
    "\n",
    "        distances= round(((points[1][0] - points[0][0])**2),3) , round(((points[1][1] - points[0][1])**2),3)         # List\n",
    "\n",
    "        result_min=\"\\nmin_distances:\"+ str(min(distances))\n",
    "        result_max=\"\\nmax_distances:\"+ str(max(distances))\n",
    "\n",
    "        import math\n",
    "        euclideanDistance= \"\\nmax_distances:\" + str(round(math.sqrt(((points[1][0] - points[0][0])**2)+(points[1][1] - points[0][1])**2),3))\n",
    "        \n",
    "        print(result_min)\n",
    "        print(\"---------------------\")\n",
    "        print(result_max)\n",
    "        print(\"---------------------\")\n",
    "        return print(euclideanDistance)"
   ]
  },
  {
   "cell_type": "code",
   "execution_count": 608,
   "id": "90b4508c-c6fb-4dc1-89dd-de9406d70d52",
   "metadata": {},
   "outputs": [
    {
     "name": "stdout",
     "output_type": "stream",
     "text": [
      "\n",
      "min_distances:65.61\n",
      "---------------------\n",
      "\n",
      "max_distances:75.69\n",
      "---------------------\n",
      "\n",
      "max_distances:11.887\n"
     ]
    }
   ],
   "source": [
    "euclideanDistance(-5.1,3,-5.2,3.5)"
   ]
  }
 ],
 "metadata": {
  "kernelspec": {
   "display_name": "Python 3 (ipykernel)",
   "language": "python",
   "name": "python3"
  },
  "language_info": {
   "codemirror_mode": {
    "name": "ipython",
    "version": 3
   },
   "file_extension": ".py",
   "mimetype": "text/x-python",
   "name": "python",
   "nbconvert_exporter": "python",
   "pygments_lexer": "ipython3",
   "version": "3.12.7"
  }
 },
 "nbformat": 4,
 "nbformat_minor": 5
}
